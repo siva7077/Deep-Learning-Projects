{
 "cells": [
  {
   "cell_type": "code",
   "execution_count": 19,
   "id": "671cbbb7-c5c1-4e9d-bf6a-bd08dea94015",
   "metadata": {},
   "outputs": [],
   "source": [
    "import numpy as np\n",
    "import pandas as pd"
   ]
  },
  {
   "cell_type": "code",
   "execution_count": 20,
   "id": "d775342b-782c-4764-b780-1a63a07fc7cb",
   "metadata": {},
   "outputs": [],
   "source": [
    "df = pd.read_csv('Churn_Modelling.csv')"
   ]
  },
  {
   "cell_type": "code",
   "execution_count": 21,
   "id": "82cd6286-0648-4fe6-95db-65d6f3960a53",
   "metadata": {},
   "outputs": [
    {
     "data": {
      "text/plain": [
       "(10000, 14)"
      ]
     },
     "execution_count": 21,
     "metadata": {},
     "output_type": "execute_result"
    }
   ],
   "source": [
    "df.shape"
   ]
  },
  {
   "cell_type": "code",
   "execution_count": 22,
   "id": "119af098-8057-4c8f-acef-acb2ac5721c5",
   "metadata": {},
   "outputs": [
    {
     "data": {
      "text/plain": [
       "Index(['RowNumber', 'CustomerId', 'Surname', 'CreditScore', 'Geography',\n",
       "       'Gender', 'Age', 'Tenure', 'Balance', 'NumOfProducts', 'HasCrCard',\n",
       "       'IsActiveMember', 'EstimatedSalary', 'Exited'],\n",
       "      dtype='object')"
      ]
     },
     "execution_count": 22,
     "metadata": {},
     "output_type": "execute_result"
    }
   ],
   "source": [
    "df.columns"
   ]
  },
  {
   "cell_type": "code",
   "execution_count": 23,
   "id": "4c4c1fea-c70b-42ca-818f-d2e0423b9da6",
   "metadata": {},
   "outputs": [
    {
     "data": {
      "text/plain": [
       "RowNumber            int64\n",
       "CustomerId           int64\n",
       "Surname             object\n",
       "CreditScore          int64\n",
       "Geography           object\n",
       "Gender              object\n",
       "Age                  int64\n",
       "Tenure               int64\n",
       "Balance            float64\n",
       "NumOfProducts        int64\n",
       "HasCrCard            int64\n",
       "IsActiveMember       int64\n",
       "EstimatedSalary    float64\n",
       "Exited               int64\n",
       "dtype: object"
      ]
     },
     "execution_count": 23,
     "metadata": {},
     "output_type": "execute_result"
    }
   ],
   "source": [
    "df.dtypes"
   ]
  },
  {
   "cell_type": "code",
   "execution_count": 24,
   "id": "aba40078-4444-4fe6-b31b-a89756a3990e",
   "metadata": {},
   "outputs": [
    {
     "data": {
      "text/html": [
       "<div>\n",
       "<style scoped>\n",
       "    .dataframe tbody tr th:only-of-type {\n",
       "        vertical-align: middle;\n",
       "    }\n",
       "\n",
       "    .dataframe tbody tr th {\n",
       "        vertical-align: top;\n",
       "    }\n",
       "\n",
       "    .dataframe thead th {\n",
       "        text-align: right;\n",
       "    }\n",
       "</style>\n",
       "<table border=\"1\" class=\"dataframe\">\n",
       "  <thead>\n",
       "    <tr style=\"text-align: right;\">\n",
       "      <th></th>\n",
       "      <th>RowNumber</th>\n",
       "      <th>CustomerId</th>\n",
       "      <th>Surname</th>\n",
       "      <th>CreditScore</th>\n",
       "      <th>Geography</th>\n",
       "      <th>Gender</th>\n",
       "      <th>Age</th>\n",
       "      <th>Tenure</th>\n",
       "      <th>Balance</th>\n",
       "      <th>NumOfProducts</th>\n",
       "      <th>HasCrCard</th>\n",
       "      <th>IsActiveMember</th>\n",
       "      <th>EstimatedSalary</th>\n",
       "      <th>Exited</th>\n",
       "    </tr>\n",
       "  </thead>\n",
       "  <tbody>\n",
       "    <tr>\n",
       "      <th>0</th>\n",
       "      <td>1</td>\n",
       "      <td>15634602</td>\n",
       "      <td>Hargrave</td>\n",
       "      <td>619</td>\n",
       "      <td>France</td>\n",
       "      <td>Female</td>\n",
       "      <td>42</td>\n",
       "      <td>2</td>\n",
       "      <td>0.00</td>\n",
       "      <td>1</td>\n",
       "      <td>1</td>\n",
       "      <td>1</td>\n",
       "      <td>101348.88</td>\n",
       "      <td>1</td>\n",
       "    </tr>\n",
       "    <tr>\n",
       "      <th>1</th>\n",
       "      <td>2</td>\n",
       "      <td>15647311</td>\n",
       "      <td>Hill</td>\n",
       "      <td>608</td>\n",
       "      <td>Spain</td>\n",
       "      <td>Female</td>\n",
       "      <td>41</td>\n",
       "      <td>1</td>\n",
       "      <td>83807.86</td>\n",
       "      <td>1</td>\n",
       "      <td>0</td>\n",
       "      <td>1</td>\n",
       "      <td>112542.58</td>\n",
       "      <td>0</td>\n",
       "    </tr>\n",
       "    <tr>\n",
       "      <th>2</th>\n",
       "      <td>3</td>\n",
       "      <td>15619304</td>\n",
       "      <td>Onio</td>\n",
       "      <td>502</td>\n",
       "      <td>France</td>\n",
       "      <td>Female</td>\n",
       "      <td>42</td>\n",
       "      <td>8</td>\n",
       "      <td>159660.80</td>\n",
       "      <td>3</td>\n",
       "      <td>1</td>\n",
       "      <td>0</td>\n",
       "      <td>113931.57</td>\n",
       "      <td>1</td>\n",
       "    </tr>\n",
       "    <tr>\n",
       "      <th>3</th>\n",
       "      <td>4</td>\n",
       "      <td>15701354</td>\n",
       "      <td>Boni</td>\n",
       "      <td>699</td>\n",
       "      <td>France</td>\n",
       "      <td>Female</td>\n",
       "      <td>39</td>\n",
       "      <td>1</td>\n",
       "      <td>0.00</td>\n",
       "      <td>2</td>\n",
       "      <td>0</td>\n",
       "      <td>0</td>\n",
       "      <td>93826.63</td>\n",
       "      <td>0</td>\n",
       "    </tr>\n",
       "    <tr>\n",
       "      <th>4</th>\n",
       "      <td>5</td>\n",
       "      <td>15737888</td>\n",
       "      <td>Mitchell</td>\n",
       "      <td>850</td>\n",
       "      <td>Spain</td>\n",
       "      <td>Female</td>\n",
       "      <td>43</td>\n",
       "      <td>2</td>\n",
       "      <td>125510.82</td>\n",
       "      <td>1</td>\n",
       "      <td>1</td>\n",
       "      <td>1</td>\n",
       "      <td>79084.10</td>\n",
       "      <td>0</td>\n",
       "    </tr>\n",
       "  </tbody>\n",
       "</table>\n",
       "</div>"
      ],
      "text/plain": [
       "   RowNumber  CustomerId   Surname  CreditScore Geography  Gender  Age  \\\n",
       "0          1    15634602  Hargrave          619    France  Female   42   \n",
       "1          2    15647311      Hill          608     Spain  Female   41   \n",
       "2          3    15619304      Onio          502    France  Female   42   \n",
       "3          4    15701354      Boni          699    France  Female   39   \n",
       "4          5    15737888  Mitchell          850     Spain  Female   43   \n",
       "\n",
       "   Tenure    Balance  NumOfProducts  HasCrCard  IsActiveMember  \\\n",
       "0       2       0.00              1          1               1   \n",
       "1       1   83807.86              1          0               1   \n",
       "2       8  159660.80              3          1               0   \n",
       "3       1       0.00              2          0               0   \n",
       "4       2  125510.82              1          1               1   \n",
       "\n",
       "   EstimatedSalary  Exited  \n",
       "0        101348.88       1  \n",
       "1        112542.58       0  \n",
       "2        113931.57       1  \n",
       "3         93826.63       0  \n",
       "4         79084.10       0  "
      ]
     },
     "execution_count": 24,
     "metadata": {},
     "output_type": "execute_result"
    }
   ],
   "source": [
    "df.head()"
   ]
  },
  {
   "cell_type": "code",
   "execution_count": 25,
   "id": "8f80e834-717a-4c0c-a707-4fa7356c990a",
   "metadata": {},
   "outputs": [
    {
     "data": {
      "text/html": [
       "<div>\n",
       "<style scoped>\n",
       "    .dataframe tbody tr th:only-of-type {\n",
       "        vertical-align: middle;\n",
       "    }\n",
       "\n",
       "    .dataframe tbody tr th {\n",
       "        vertical-align: top;\n",
       "    }\n",
       "\n",
       "    .dataframe thead th {\n",
       "        text-align: right;\n",
       "    }\n",
       "</style>\n",
       "<table border=\"1\" class=\"dataframe\">\n",
       "  <thead>\n",
       "    <tr style=\"text-align: right;\">\n",
       "      <th></th>\n",
       "      <th>RowNumber</th>\n",
       "      <th>CustomerId</th>\n",
       "      <th>Surname</th>\n",
       "      <th>CreditScore</th>\n",
       "      <th>Geography</th>\n",
       "      <th>Gender</th>\n",
       "      <th>Age</th>\n",
       "      <th>Tenure</th>\n",
       "      <th>Balance</th>\n",
       "      <th>NumOfProducts</th>\n",
       "      <th>HasCrCard</th>\n",
       "      <th>IsActiveMember</th>\n",
       "      <th>EstimatedSalary</th>\n",
       "      <th>Exited</th>\n",
       "    </tr>\n",
       "  </thead>\n",
       "  <tbody>\n",
       "    <tr>\n",
       "      <th>9995</th>\n",
       "      <td>9996</td>\n",
       "      <td>15606229</td>\n",
       "      <td>Obijiaku</td>\n",
       "      <td>771</td>\n",
       "      <td>France</td>\n",
       "      <td>Male</td>\n",
       "      <td>39</td>\n",
       "      <td>5</td>\n",
       "      <td>0.00</td>\n",
       "      <td>2</td>\n",
       "      <td>1</td>\n",
       "      <td>0</td>\n",
       "      <td>96270.64</td>\n",
       "      <td>0</td>\n",
       "    </tr>\n",
       "    <tr>\n",
       "      <th>9996</th>\n",
       "      <td>9997</td>\n",
       "      <td>15569892</td>\n",
       "      <td>Johnstone</td>\n",
       "      <td>516</td>\n",
       "      <td>France</td>\n",
       "      <td>Male</td>\n",
       "      <td>35</td>\n",
       "      <td>10</td>\n",
       "      <td>57369.61</td>\n",
       "      <td>1</td>\n",
       "      <td>1</td>\n",
       "      <td>1</td>\n",
       "      <td>101699.77</td>\n",
       "      <td>0</td>\n",
       "    </tr>\n",
       "    <tr>\n",
       "      <th>9997</th>\n",
       "      <td>9998</td>\n",
       "      <td>15584532</td>\n",
       "      <td>Liu</td>\n",
       "      <td>709</td>\n",
       "      <td>France</td>\n",
       "      <td>Female</td>\n",
       "      <td>36</td>\n",
       "      <td>7</td>\n",
       "      <td>0.00</td>\n",
       "      <td>1</td>\n",
       "      <td>0</td>\n",
       "      <td>1</td>\n",
       "      <td>42085.58</td>\n",
       "      <td>1</td>\n",
       "    </tr>\n",
       "    <tr>\n",
       "      <th>9998</th>\n",
       "      <td>9999</td>\n",
       "      <td>15682355</td>\n",
       "      <td>Sabbatini</td>\n",
       "      <td>772</td>\n",
       "      <td>Germany</td>\n",
       "      <td>Male</td>\n",
       "      <td>42</td>\n",
       "      <td>3</td>\n",
       "      <td>75075.31</td>\n",
       "      <td>2</td>\n",
       "      <td>1</td>\n",
       "      <td>0</td>\n",
       "      <td>92888.52</td>\n",
       "      <td>1</td>\n",
       "    </tr>\n",
       "    <tr>\n",
       "      <th>9999</th>\n",
       "      <td>10000</td>\n",
       "      <td>15628319</td>\n",
       "      <td>Walker</td>\n",
       "      <td>792</td>\n",
       "      <td>France</td>\n",
       "      <td>Female</td>\n",
       "      <td>28</td>\n",
       "      <td>4</td>\n",
       "      <td>130142.79</td>\n",
       "      <td>1</td>\n",
       "      <td>1</td>\n",
       "      <td>0</td>\n",
       "      <td>38190.78</td>\n",
       "      <td>0</td>\n",
       "    </tr>\n",
       "  </tbody>\n",
       "</table>\n",
       "</div>"
      ],
      "text/plain": [
       "      RowNumber  CustomerId    Surname  CreditScore Geography  Gender  Age  \\\n",
       "9995       9996    15606229   Obijiaku          771    France    Male   39   \n",
       "9996       9997    15569892  Johnstone          516    France    Male   35   \n",
       "9997       9998    15584532        Liu          709    France  Female   36   \n",
       "9998       9999    15682355  Sabbatini          772   Germany    Male   42   \n",
       "9999      10000    15628319     Walker          792    France  Female   28   \n",
       "\n",
       "      Tenure    Balance  NumOfProducts  HasCrCard  IsActiveMember  \\\n",
       "9995       5       0.00              2          1               0   \n",
       "9996      10   57369.61              1          1               1   \n",
       "9997       7       0.00              1          0               1   \n",
       "9998       3   75075.31              2          1               0   \n",
       "9999       4  130142.79              1          1               0   \n",
       "\n",
       "      EstimatedSalary  Exited  \n",
       "9995         96270.64       0  \n",
       "9996        101699.77       0  \n",
       "9997         42085.58       1  \n",
       "9998         92888.52       1  \n",
       "9999         38190.78       0  "
      ]
     },
     "execution_count": 25,
     "metadata": {},
     "output_type": "execute_result"
    }
   ],
   "source": [
    "df.tail()"
   ]
  },
  {
   "cell_type": "code",
   "execution_count": 26,
   "id": "f12c30d1-4bf3-4ca3-a82a-87b258aec641",
   "metadata": {},
   "outputs": [],
   "source": [
    "# Importing essential libraries for visualizations\n",
    "import matplotlib.pyplot as plt\n",
    "import seaborn as sns\n",
    "%matplotlib inline"
   ]
  },
  {
   "cell_type": "code",
   "execution_count": 27,
   "id": "2a444ab4-6074-42d4-b253-12cb72632838",
   "metadata": {},
   "outputs": [
    {
     "name": "stderr",
     "output_type": "stream",
     "text": [
      "/Library/Frameworks/Python.framework/Versions/3.11/lib/python3.11/site-packages/seaborn/_oldcore.py:1498: FutureWarning: is_categorical_dtype is deprecated and will be removed in a future version. Use isinstance(dtype, CategoricalDtype) instead\n",
      "  if pd.api.types.is_categorical_dtype(vector):\n",
      "/Library/Frameworks/Python.framework/Versions/3.11/lib/python3.11/site-packages/seaborn/_oldcore.py:1498: FutureWarning: is_categorical_dtype is deprecated and will be removed in a future version. Use isinstance(dtype, CategoricalDtype) instead\n",
      "  if pd.api.types.is_categorical_dtype(vector):\n",
      "/Library/Frameworks/Python.framework/Versions/3.11/lib/python3.11/site-packages/seaborn/_oldcore.py:1498: FutureWarning: is_categorical_dtype is deprecated and will be removed in a future version. Use isinstance(dtype, CategoricalDtype) instead\n",
      "  if pd.api.types.is_categorical_dtype(vector):\n"
     ]
    },
    {
     "data": {
      "image/png": "[encoded data removed]",
      "text/plain": [
       "<Figure size 800x800 with 1 Axes>"
      ]
     },
     "metadata": {},
     "output_type": "display_data"
    }
   ],
   "source": [
    "# Visualizing the count of 'exited customers' in the dataset\n",
    "plt.figure(figsize=(8,8))\n",
    "sns.countplot(x='Exited', data=df)\n",
    "plt.xlabel('0: Customers still with the bank, 1: Customers exited the bank')\n",
    "plt.ylabel('Count')\n",
    "plt.title('Bank Customers Churn Visualization')\n",
    "plt.show()"
   ]
  },
  {
   "cell_type": "code",
   "execution_count": 28,
   "id": "2e216f0b-60b6-451e-b8fb-e321e79138d1",
   "metadata": {},
   "outputs": [
    {
     "data": {
      "text/plain": [
       "RowNumber          False\n",
       "CustomerId         False\n",
       "Surname            False\n",
       "CreditScore        False\n",
       "Geography          False\n",
       "Gender             False\n",
       "Age                False\n",
       "Tenure             False\n",
       "Balance            False\n",
       "NumOfProducts      False\n",
       "HasCrCard          False\n",
       "IsActiveMember     False\n",
       "EstimatedSalary    False\n",
       "Exited             False\n",
       "dtype: bool"
      ]
     },
     "execution_count": 28,
     "metadata": {},
     "output_type": "execute_result"
    }
   ],
   "source": [
    "df.isna().any()"
   ]
  },
  {
   "cell_type": "code",
   "execution_count": 29,
   "id": "8399b350-7729-4e6d-912f-f159f3ae36ad",
   "metadata": {},
   "outputs": [
    {
     "data": {
      "text/plain": [
       "Index(['CreditScore', 'Geography', 'Gender', 'Age', 'Tenure', 'Balance',\n",
       "       'NumOfProducts', 'HasCrCard', 'IsActiveMember', 'EstimatedSalary',\n",
       "       'Exited'],\n",
       "      dtype='object')"
      ]
     },
     "execution_count": 29,
     "metadata": {},
     "output_type": "execute_result"
    }
   ],
   "source": [
    "df.drop(['RowNumber','CustomerId','Surname'], axis=1, inplace=True)\n",
    "df.columns"
   ]
  },
  {
   "cell_type": "code",
   "execution_count": 30,
   "id": "a40f9b49-cd7c-4169-8f0f-14ad04ffa15b",
   "metadata": {},
   "outputs": [],
   "source": [
    "# Converting 'Geography' and 'Gender' column\n",
    "geography = pd.get_dummies(df['Geography'], drop_first=True)\n",
    "gender = pd.get_dummies(df['Gender'], drop_first=True)"
   ]
  },
  {
   "cell_type": "code",
   "execution_count": 31,
   "id": "e9ebc5ec-9fd5-4256-9b42-1d0300840fb4",
   "metadata": {},
   "outputs": [
    {
     "data": {
      "text/plain": [
       "Index(['CreditScore', 'Geography', 'Gender', 'Age', 'Tenure', 'Balance',\n",
       "       'NumOfProducts', 'HasCrCard', 'IsActiveMember', 'EstimatedSalary',\n",
       "       'Exited', 'Germany', 'Spain', 'Male'],\n",
       "      dtype='object')"
      ]
     },
     "execution_count": 31,
     "metadata": {},
     "output_type": "execute_result"
    }
   ],
   "source": [
    "# Appending columns to original dataframe\n",
    "df = pd.concat([df, geography, gender], axis=1)\n",
    "df.columns"
   ]
  },
  {
   "cell_type": "code",
   "execution_count": 32,
   "id": "e8f0dd61-570f-49c9-b1df-6c4ee532f7b5",
   "metadata": {},
   "outputs": [],
   "source": [
    "df.drop(['Geography', 'Gender'], axis=1, inplace=True)"
   ]
  },
  {
   "cell_type": "code",
   "execution_count": 33,
   "id": "c9996de7-671e-45bb-ba46-5914212a52a4",
   "metadata": {},
   "outputs": [
    {
     "data": {
      "text/html": [
       "<div>\n",
       "<style scoped>\n",
       "    .dataframe tbody tr th:only-of-type {\n",
       "        vertical-align: middle;\n",
       "    }\n",
       "\n",
       "    .dataframe tbody tr th {\n",
       "        vertical-align: top;\n",
       "    }\n",
       "\n",
       "    .dataframe thead th {\n",
       "        text-align: right;\n",
       "    }\n",
       "</style>\n",
       "<table border=\"1\" class=\"dataframe\">\n",
       "  <thead>\n",
       "    <tr style=\"text-align: right;\">\n",
       "      <th></th>\n",
       "      <th>CreditScore</th>\n",
       "      <th>Age</th>\n",
       "      <th>Tenure</th>\n",
       "      <th>Balance</th>\n",
       "      <th>NumOfProducts</th>\n",
       "      <th>HasCrCard</th>\n",
       "      <th>IsActiveMember</th>\n",
       "      <th>EstimatedSalary</th>\n",
       "      <th>Exited</th>\n",
       "      <th>Germany</th>\n",
       "      <th>Spain</th>\n",
       "      <th>Male</th>\n",
       "    </tr>\n",
       "  </thead>\n",
       "  <tbody>\n",
       "    <tr>\n",
       "      <th>0</th>\n",
       "      <td>619</td>\n",
       "      <td>42</td>\n",
       "      <td>2</td>\n",
       "      <td>0.00</td>\n",
       "      <td>1</td>\n",
       "      <td>1</td>\n",
       "      <td>1</td>\n",
       "      <td>101348.88</td>\n",
       "      <td>1</td>\n",
       "      <td>False</td>\n",
       "      <td>False</td>\n",
       "      <td>False</td>\n",
       "    </tr>\n",
       "    <tr>\n",
       "      <th>1</th>\n",
       "      <td>608</td>\n",
       "      <td>41</td>\n",
       "      <td>1</td>\n",
       "      <td>83807.86</td>\n",
       "      <td>1</td>\n",
       "      <td>0</td>\n",
       "      <td>1</td>\n",
       "      <td>112542.58</td>\n",
       "      <td>0</td>\n",
       "      <td>False</td>\n",
       "      <td>True</td>\n",
       "      <td>False</td>\n",
       "    </tr>\n",
       "    <tr>\n",
       "      <th>2</th>\n",
       "      <td>502</td>\n",
       "      <td>42</td>\n",
       "      <td>8</td>\n",
       "      <td>159660.80</td>\n",
       "      <td>3</td>\n",
       "      <td>1</td>\n",
       "      <td>0</td>\n",
       "      <td>113931.57</td>\n",
       "      <td>1</td>\n",
       "      <td>False</td>\n",
       "      <td>False</td>\n",
       "      <td>False</td>\n",
       "    </tr>\n",
       "    <tr>\n",
       "      <th>3</th>\n",
       "      <td>699</td>\n",
       "      <td>39</td>\n",
       "      <td>1</td>\n",
       "      <td>0.00</td>\n",
       "      <td>2</td>\n",
       "      <td>0</td>\n",
       "      <td>0</td>\n",
       "      <td>93826.63</td>\n",
       "      <td>0</td>\n",
       "      <td>False</td>\n",
       "      <td>False</td>\n",
       "      <td>False</td>\n",
       "    </tr>\n",
       "    <tr>\n",
       "      <th>4</th>\n",
       "      <td>850</td>\n",
       "      <td>43</td>\n",
       "      <td>2</td>\n",
       "      <td>125510.82</td>\n",
       "      <td>1</td>\n",
       "      <td>1</td>\n",
       "      <td>1</td>\n",
       "      <td>79084.10</td>\n",
       "      <td>0</td>\n",
       "      <td>False</td>\n",
       "      <td>True</td>\n",
       "      <td>False</td>\n",
       "    </tr>\n",
       "    <tr>\n",
       "      <th>5</th>\n",
       "      <td>645</td>\n",
       "      <td>44</td>\n",
       "      <td>8</td>\n",
       "      <td>113755.78</td>\n",
       "      <td>2</td>\n",
       "      <td>1</td>\n",
       "      <td>0</td>\n",
       "      <td>149756.71</td>\n",
       "      <td>1</td>\n",
       "      <td>False</td>\n",
       "      <td>True</td>\n",
       "      <td>True</td>\n",
       "    </tr>\n",
       "    <tr>\n",
       "      <th>6</th>\n",
       "      <td>822</td>\n",
       "      <td>50</td>\n",
       "      <td>7</td>\n",
       "      <td>0.00</td>\n",
       "      <td>2</td>\n",
       "      <td>1</td>\n",
       "      <td>1</td>\n",
       "      <td>10062.80</td>\n",
       "      <td>0</td>\n",
       "      <td>False</td>\n",
       "      <td>False</td>\n",
       "      <td>True</td>\n",
       "    </tr>\n",
       "    <tr>\n",
       "      <th>7</th>\n",
       "      <td>376</td>\n",
       "      <td>29</td>\n",
       "      <td>4</td>\n",
       "      <td>115046.74</td>\n",
       "      <td>4</td>\n",
       "      <td>1</td>\n",
       "      <td>0</td>\n",
       "      <td>119346.88</td>\n",
       "      <td>1</td>\n",
       "      <td>True</td>\n",
       "      <td>False</td>\n",
       "      <td>False</td>\n",
       "    </tr>\n",
       "    <tr>\n",
       "      <th>8</th>\n",
       "      <td>501</td>\n",
       "      <td>44</td>\n",
       "      <td>4</td>\n",
       "      <td>142051.07</td>\n",
       "      <td>2</td>\n",
       "      <td>0</td>\n",
       "      <td>1</td>\n",
       "      <td>74940.50</td>\n",
       "      <td>0</td>\n",
       "      <td>False</td>\n",
       "      <td>False</td>\n",
       "      <td>True</td>\n",
       "    </tr>\n",
       "    <tr>\n",
       "      <th>9</th>\n",
       "      <td>684</td>\n",
       "      <td>27</td>\n",
       "      <td>2</td>\n",
       "      <td>134603.88</td>\n",
       "      <td>1</td>\n",
       "      <td>1</td>\n",
       "      <td>1</td>\n",
       "      <td>71725.73</td>\n",
       "      <td>0</td>\n",
       "      <td>False</td>\n",
       "      <td>False</td>\n",
       "      <td>True</td>\n",
       "    </tr>\n",
       "  </tbody>\n",
       "</table>\n",
       "</div>"
      ],
      "text/plain": [
       "   CreditScore  Age  Tenure    Balance  NumOfProducts  HasCrCard  \\\n",
       "0          619   42       2       0.00              1          1   \n",
       "1          608   41       1   83807.86              1          0   \n",
       "2          502   42       8  159660.80              3          1   \n",
       "3          699   39       1       0.00              2          0   \n",
       "4          850   43       2  125510.82              1          1   \n",
       "5          645   44       8  113755.78              2          1   \n",
       "6          822   50       7       0.00              2          1   \n",
       "7          376   29       4  115046.74              4          1   \n",
       "8          501   44       4  142051.07              2          0   \n",
       "9          684   27       2  134603.88              1          1   \n",
       "\n",
       "   IsActiveMember  EstimatedSalary  Exited  Germany  Spain   Male  \n",
       "0               1        101348.88       1    False  False  False  \n",
       "1               1        112542.58       0    False   True  False  \n",
       "2               0        113931.57       1    False  False  False  \n",
       "3               0         93826.63       0    False  False  False  \n",
       "4               1         79084.10       0    False   True  False  \n",
       "5               0        149756.71       1    False   True   True  \n",
       "6               1         10062.80       0    False  False   True  \n",
       "7               0        119346.88       1     True  False  False  \n",
       "8               1         74940.50       0    False  False   True  \n",
       "9               1         71725.73       0    False  False   True  "
      ]
     },
     "execution_count": 33,
     "metadata": {},
     "output_type": "execute_result"
    }
   ],
   "source": [
    "df.head(10)"
   ]
  },
  {
   "cell_type": "markdown",
   "id": "40d6eae6-80d2-4ae2-a718-bc3cc7ca611c",
   "metadata": {},
   "source": [
    "Data Preprocessing\n",
    "• Split the dataset into independent features (ie: X) and label (ie: y).\n",
    "\n",
    "• Split the dataset further into train and test sets.\n",
    "\n",
    "• Apply feature scaling to train and test sets of independent features."
   ]
  },
  {
   "cell_type": "code",
   "execution_count": 34,
   "id": "3fc372f2-5552-41b2-b51d-156517574559",
   "metadata": {},
   "outputs": [],
   "source": [
    "X = df.drop('Exited', axis=1)\n",
    "y = df['Exited']"
   ]
  },
  {
   "cell_type": "code",
   "execution_count": 35,
   "id": "17cd5639-d171-44da-a812-d56512133705",
   "metadata": {},
   "outputs": [
    {
     "name": "stdout",
     "output_type": "stream",
     "text": [
      "X_train size: (8000, 11), X_test size: (2000, 11)\n"
     ]
    }
   ],
   "source": [
    "# Splitting the dataset into train and test sets.\n",
    "from sklearn.model_selection import train_test_split\n",
    "X_train, X_test, y_train, y_test = train_test_split(X, y, test_size=0.20, random_state=0)\n",
    "print('X_train size: {}, X_test size: {}'.format(X_train.shape, X_test.shape))"
   ]
  },
  {
   "cell_type": "code",
   "execution_count": 36,
   "id": "6c24c9bc-3b05-4cf5-9ac1-31d9e3b2f74a",
   "metadata": {},
   "outputs": [],
   "source": [
    "# Feature Scaling\n",
    "from sklearn.preprocessing import StandardScaler\n",
    "sc = StandardScaler()\n",
    "X_train = sc.fit_transform(X_train)\n",
    "X_test = sc.transform(X_test)"
   ]
  },
  {
   "cell_type": "markdown",
   "id": "6cef8afc-5796-43d3-b13d-f8bd6afd6e84",
   "metadata": {},
   "source": [
    "# **Building Artificial Neural Network (ANN)**"
   ]
  },
  {
   "cell_type": "code",
   "execution_count": 37,
   "id": "b4859bcc-d09f-43d7-b28e-de1bdfa815fb",
   "metadata": {},
   "outputs": [],
   "source": [
    "# Importing the Keras libraries and packages\n",
    "import keras\n",
    "from keras.models import Sequential\n",
    "from keras.layers import Dense"
   ]
  },
  {
   "cell_type": "code",
   "execution_count": 38,
   "id": "630a373d-5647-4888-b666-4e1707635b6a",
   "metadata": {},
   "outputs": [],
   "source": [
    "# Initialising the ANN\n",
    "classifier = Sequential()"
   ]
  },
  {
   "cell_type": "code",
   "execution_count": 39,
   "id": "ce376e1a-33de-47e8-85e2-d273b835ed10",
   "metadata": {},
   "outputs": [],
   "source": [
    "# Adding the input layer and the first hidden layer\n",
    "classifier.add(Dense(units=6, kernel_initializer='he_uniform', activation='relu', input_dim=11))"
   ]
  },
  {
   "cell_type": "code",
   "execution_count": 40,
   "id": "59f054b3-2e5c-49f9-8a77-be5ffbc0d47b",
   "metadata": {},
   "outputs": [],
   "source": [
    "# Adding the second hidden layer\n",
    "classifier.add(Dense(units=6, kernel_initializer='he_uniform', activation='relu'))"
   ]
  },
  {
   "cell_type": "code",
   "execution_count": 41,
   "id": "3d29a4e7-8d4d-412c-a4f6-78fb2071eca5",
   "metadata": {},
   "outputs": [],
   "source": [
    "# Adding the output layer\n",
    "classifier.add(Dense(units=1, kernel_initializer='glorot_uniform', activation='sigmoid'))"
   ]
  },
  {
   "cell_type": "code",
   "execution_count": 42,
   "id": "eb8e110c-00d7-4326-968e-6722104d5471",
   "metadata": {},
   "outputs": [],
   "source": [
    "# Compiling the ANN\n",
    "classifier.compile(optimizer='adam', loss='binary_crossentropy', metrics=['accuracy'])"
   ]
  },
  {
   "cell_type": "code",
   "execution_count": 43,
   "id": "fa4f6fa0-44ce-478a-a909-1192cb411a7a",
   "metadata": {},
   "outputs": [
    {
     "name": "stdout",
     "output_type": "stream",
     "text": [
      "Epoch 1/100\n",
      "536/536 [==============================] - 0s 613us/step - loss: 0.5159 - accuracy: 0.7890 - val_loss: 0.4738 - val_accuracy: 0.8016\n",
      "Epoch 2/100\n",
      "536/536 [==============================] - 0s 496us/step - loss: 0.4445 - accuracy: 0.8100 - val_loss: 0.4472 - val_accuracy: 0.8065\n",
      "Epoch 3/100\n",
      "536/536 [==============================] - 0s 494us/step - loss: 0.4266 - accuracy: 0.8209 - val_loss: 0.4356 - val_accuracy: 0.8103\n",
      "Epoch 4/100\n",
      "536/536 [==============================] - 0s 497us/step - loss: 0.4170 - accuracy: 0.8261 - val_loss: 0.4276 - val_accuracy: 0.8141\n",
      "Epoch 5/100\n",
      "536/536 [==============================] - 0s 497us/step - loss: 0.4112 - accuracy: 0.8280 - val_loss: 0.4209 - val_accuracy: 0.8205\n",
      "Epoch 6/100\n",
      "536/536 [==============================] - 0s 510us/step - loss: 0.4065 - accuracy: 0.8306 - val_loss: 0.4172 - val_accuracy: 0.8201\n",
      "Epoch 7/100\n",
      "536/536 [==============================] - 0s 517us/step - loss: 0.4030 - accuracy: 0.8309 - val_loss: 0.4154 - val_accuracy: 0.8209\n",
      "Epoch 8/100\n",
      "536/536 [==============================] - 0s 505us/step - loss: 0.4003 - accuracy: 0.8308 - val_loss: 0.4144 - val_accuracy: 0.8220\n",
      "Epoch 9/100\n",
      "536/536 [==============================] - 0s 505us/step - loss: 0.3979 - accuracy: 0.8328 - val_loss: 0.4126 - val_accuracy: 0.8217\n",
      "Epoch 10/100\n",
      "536/536 [==============================] - 0s 496us/step - loss: 0.3946 - accuracy: 0.8330 - val_loss: 0.4090 - val_accuracy: 0.8236\n",
      "Epoch 11/100\n",
      "536/536 [==============================] - 0s 495us/step - loss: 0.3914 - accuracy: 0.8343 - val_loss: 0.4052 - val_accuracy: 0.8277\n",
      "Epoch 12/100\n",
      "536/536 [==============================] - 0s 494us/step - loss: 0.3869 - accuracy: 0.8354 - val_loss: 0.4020 - val_accuracy: 0.8273\n",
      "Epoch 13/100\n",
      "536/536 [==============================] - 0s 492us/step - loss: 0.3824 - accuracy: 0.8382 - val_loss: 0.3980 - val_accuracy: 0.8277\n",
      "Epoch 14/100\n",
      "536/536 [==============================] - 0s 494us/step - loss: 0.3775 - accuracy: 0.8410 - val_loss: 0.3930 - val_accuracy: 0.8311\n",
      "Epoch 15/100\n",
      "536/536 [==============================] - 0s 527us/step - loss: 0.3717 - accuracy: 0.8434 - val_loss: 0.3877 - val_accuracy: 0.8368\n",
      "Epoch 16/100\n",
      "536/536 [==============================] - 0s 492us/step - loss: 0.3656 - accuracy: 0.8466 - val_loss: 0.3855 - val_accuracy: 0.8342\n",
      "Epoch 17/100\n",
      "536/536 [==============================] - 0s 492us/step - loss: 0.3605 - accuracy: 0.8520 - val_loss: 0.3790 - val_accuracy: 0.8413\n",
      "Epoch 18/100\n",
      "536/536 [==============================] - 0s 497us/step - loss: 0.3559 - accuracy: 0.8517 - val_loss: 0.3770 - val_accuracy: 0.8398\n",
      "Epoch 19/100\n",
      "536/536 [==============================] - 0s 492us/step - loss: 0.3520 - accuracy: 0.8533 - val_loss: 0.3734 - val_accuracy: 0.8444\n",
      "Epoch 20/100\n",
      "536/536 [==============================] - 0s 493us/step - loss: 0.3494 - accuracy: 0.8541 - val_loss: 0.3710 - val_accuracy: 0.8451\n",
      "Epoch 21/100\n",
      "536/536 [==============================] - 0s 501us/step - loss: 0.3469 - accuracy: 0.8571 - val_loss: 0.3695 - val_accuracy: 0.8436\n",
      "Epoch 22/100\n",
      "536/536 [==============================] - 0s 496us/step - loss: 0.3443 - accuracy: 0.8572 - val_loss: 0.3668 - val_accuracy: 0.8451\n",
      "Epoch 23/100\n",
      "536/536 [==============================] - 0s 496us/step - loss: 0.3419 - accuracy: 0.8574 - val_loss: 0.3661 - val_accuracy: 0.8444\n",
      "Epoch 24/100\n",
      "536/536 [==============================] - 0s 493us/step - loss: 0.3407 - accuracy: 0.8591 - val_loss: 0.3628 - val_accuracy: 0.8470\n",
      "Epoch 25/100\n",
      "536/536 [==============================] - 0s 494us/step - loss: 0.3390 - accuracy: 0.8593 - val_loss: 0.3620 - val_accuracy: 0.8463\n",
      "Epoch 26/100\n",
      "536/536 [==============================] - 0s 493us/step - loss: 0.3371 - accuracy: 0.8563 - val_loss: 0.3613 - val_accuracy: 0.8470\n",
      "Epoch 27/100\n",
      "536/536 [==============================] - 0s 492us/step - loss: 0.3364 - accuracy: 0.8597 - val_loss: 0.3599 - val_accuracy: 0.8478\n",
      "Epoch 28/100\n",
      "536/536 [==============================] - 0s 510us/step - loss: 0.3357 - accuracy: 0.8619 - val_loss: 0.3597 - val_accuracy: 0.8478\n",
      "Epoch 29/100\n",
      "536/536 [==============================] - 0s 500us/step - loss: 0.3351 - accuracy: 0.8606 - val_loss: 0.3597 - val_accuracy: 0.8497\n",
      "Epoch 30/100\n",
      "536/536 [==============================] - 0s 492us/step - loss: 0.3342 - accuracy: 0.8593 - val_loss: 0.3590 - val_accuracy: 0.8527\n",
      "Epoch 31/100\n",
      "536/536 [==============================] - 0s 519us/step - loss: 0.3340 - accuracy: 0.8608 - val_loss: 0.3583 - val_accuracy: 0.8573\n",
      "Epoch 32/100\n",
      "536/536 [==============================] - 0s 499us/step - loss: 0.3333 - accuracy: 0.8617 - val_loss: 0.3581 - val_accuracy: 0.8554\n",
      "Epoch 33/100\n",
      "536/536 [==============================] - 0s 517us/step - loss: 0.3329 - accuracy: 0.8591 - val_loss: 0.3594 - val_accuracy: 0.8516\n",
      "Epoch 34/100\n",
      "536/536 [==============================] - 0s 497us/step - loss: 0.3327 - accuracy: 0.8614 - val_loss: 0.3588 - val_accuracy: 0.8573\n",
      "Epoch 35/100\n",
      "536/536 [==============================] - 0s 495us/step - loss: 0.3322 - accuracy: 0.8628 - val_loss: 0.3582 - val_accuracy: 0.8565\n",
      "Epoch 36/100\n",
      "536/536 [==============================] - 0s 540us/step - loss: 0.3322 - accuracy: 0.8589 - val_loss: 0.3586 - val_accuracy: 0.8546\n",
      "Epoch 37/100\n",
      "536/536 [==============================] - 0s 503us/step - loss: 0.3318 - accuracy: 0.8591 - val_loss: 0.3577 - val_accuracy: 0.8565\n",
      "Epoch 38/100\n",
      "536/536 [==============================] - 0s 497us/step - loss: 0.3314 - accuracy: 0.8606 - val_loss: 0.3593 - val_accuracy: 0.8557\n",
      "Epoch 39/100\n",
      "536/536 [==============================] - 0s 497us/step - loss: 0.3316 - accuracy: 0.8600 - val_loss: 0.3601 - val_accuracy: 0.8542\n",
      "Epoch 40/100\n",
      "536/536 [==============================] - 0s 500us/step - loss: 0.3314 - accuracy: 0.8599 - val_loss: 0.3581 - val_accuracy: 0.8561\n",
      "Epoch 41/100\n",
      "536/536 [==============================] - 0s 495us/step - loss: 0.3312 - accuracy: 0.8597 - val_loss: 0.3590 - val_accuracy: 0.8557\n",
      "Epoch 42/100\n",
      "536/536 [==============================] - 0s 498us/step - loss: 0.3311 - accuracy: 0.8597 - val_loss: 0.3583 - val_accuracy: 0.8580\n",
      "Epoch 43/100\n",
      "536/536 [==============================] - 0s 496us/step - loss: 0.3312 - accuracy: 0.8612 - val_loss: 0.3585 - val_accuracy: 0.8557\n",
      "Epoch 44/100\n",
      "536/536 [==============================] - 0s 498us/step - loss: 0.3306 - accuracy: 0.8608 - val_loss: 0.3578 - val_accuracy: 0.8561\n",
      "Epoch 45/100\n",
      "536/536 [==============================] - 0s 496us/step - loss: 0.3308 - accuracy: 0.8615 - val_loss: 0.3584 - val_accuracy: 0.8561\n",
      "Epoch 46/100\n",
      "536/536 [==============================] - 0s 497us/step - loss: 0.3304 - accuracy: 0.8625 - val_loss: 0.3575 - val_accuracy: 0.8569\n",
      "Epoch 47/100\n",
      "536/536 [==============================] - 0s 504us/step - loss: 0.3305 - accuracy: 0.8593 - val_loss: 0.3578 - val_accuracy: 0.8561\n",
      "Epoch 48/100\n",
      "536/536 [==============================] - 0s 503us/step - loss: 0.3300 - accuracy: 0.8621 - val_loss: 0.3579 - val_accuracy: 0.8557\n",
      "Epoch 49/100\n",
      "536/536 [==============================] - 0s 502us/step - loss: 0.3298 - accuracy: 0.8638 - val_loss: 0.3568 - val_accuracy: 0.8588\n",
      "Epoch 50/100\n",
      "536/536 [==============================] - 0s 521us/step - loss: 0.3292 - accuracy: 0.8625 - val_loss: 0.3594 - val_accuracy: 0.8542\n",
      "Epoch 51/100\n",
      "536/536 [==============================] - 0s 538us/step - loss: 0.3291 - accuracy: 0.8627 - val_loss: 0.3598 - val_accuracy: 0.8584\n",
      "Epoch 52/100\n",
      "536/536 [==============================] - 0s 505us/step - loss: 0.3294 - accuracy: 0.8628 - val_loss: 0.3582 - val_accuracy: 0.8599\n",
      "Epoch 53/100\n",
      "536/536 [==============================] - 0s 500us/step - loss: 0.3287 - accuracy: 0.8653 - val_loss: 0.3580 - val_accuracy: 0.8542\n",
      "Epoch 54/100\n",
      "536/536 [==============================] - 0s 505us/step - loss: 0.3288 - accuracy: 0.8647 - val_loss: 0.3579 - val_accuracy: 0.8565\n",
      "Epoch 55/100\n",
      "536/536 [==============================] - 0s 506us/step - loss: 0.3279 - accuracy: 0.8608 - val_loss: 0.3598 - val_accuracy: 0.8546\n",
      "Epoch 56/100\n",
      "536/536 [==============================] - 0s 508us/step - loss: 0.3288 - accuracy: 0.8636 - val_loss: 0.3574 - val_accuracy: 0.8569\n",
      "Epoch 57/100\n",
      "536/536 [==============================] - 0s 503us/step - loss: 0.3287 - accuracy: 0.8627 - val_loss: 0.3594 - val_accuracy: 0.8569\n",
      "Epoch 58/100\n",
      "536/536 [==============================] - 0s 498us/step - loss: 0.3287 - accuracy: 0.8634 - val_loss: 0.3586 - val_accuracy: 0.8569\n",
      "Epoch 59/100\n",
      "536/536 [==============================] - 0s 502us/step - loss: 0.3287 - accuracy: 0.8628 - val_loss: 0.3580 - val_accuracy: 0.8557\n",
      "Epoch 60/100\n",
      "536/536 [==============================] - 0s 503us/step - loss: 0.3286 - accuracy: 0.8619 - val_loss: 0.3573 - val_accuracy: 0.8591\n",
      "Epoch 61/100\n",
      "536/536 [==============================] - 0s 496us/step - loss: 0.3285 - accuracy: 0.8625 - val_loss: 0.3589 - val_accuracy: 0.8576\n",
      "Epoch 62/100\n",
      "536/536 [==============================] - 0s 500us/step - loss: 0.3283 - accuracy: 0.8625 - val_loss: 0.3587 - val_accuracy: 0.8542\n",
      "Epoch 63/100\n",
      "536/536 [==============================] - 0s 498us/step - loss: 0.3284 - accuracy: 0.8627 - val_loss: 0.3605 - val_accuracy: 0.8561\n",
      "Epoch 64/100\n",
      "536/536 [==============================] - 0s 545us/step - loss: 0.3281 - accuracy: 0.8612 - val_loss: 0.3578 - val_accuracy: 0.8580\n",
      "Epoch 65/100\n",
      "536/536 [==============================] - 0s 499us/step - loss: 0.3281 - accuracy: 0.8614 - val_loss: 0.3583 - val_accuracy: 0.8573\n",
      "Epoch 66/100\n",
      "536/536 [==============================] - 0s 498us/step - loss: 0.3279 - accuracy: 0.8621 - val_loss: 0.3575 - val_accuracy: 0.8546\n",
      "Epoch 67/100\n",
      "536/536 [==============================] - 0s 496us/step - loss: 0.3276 - accuracy: 0.8623 - val_loss: 0.3573 - val_accuracy: 0.8599\n",
      "Epoch 68/100\n",
      "536/536 [==============================] - 0s 500us/step - loss: 0.3275 - accuracy: 0.8632 - val_loss: 0.3598 - val_accuracy: 0.8569\n",
      "Epoch 69/100\n",
      "536/536 [==============================] - 0s 495us/step - loss: 0.3283 - accuracy: 0.8617 - val_loss: 0.3580 - val_accuracy: 0.8569\n",
      "Epoch 70/100\n",
      "536/536 [==============================] - 0s 496us/step - loss: 0.3280 - accuracy: 0.8645 - val_loss: 0.3581 - val_accuracy: 0.8588\n",
      "Epoch 71/100\n",
      "536/536 [==============================] - 0s 496us/step - loss: 0.3273 - accuracy: 0.8645 - val_loss: 0.3581 - val_accuracy: 0.8557\n",
      "Epoch 72/100\n",
      "536/536 [==============================] - 0s 496us/step - loss: 0.3283 - accuracy: 0.8643 - val_loss: 0.3563 - val_accuracy: 0.8576\n",
      "Epoch 73/100\n",
      "536/536 [==============================] - 0s 495us/step - loss: 0.3276 - accuracy: 0.8625 - val_loss: 0.3573 - val_accuracy: 0.8580\n",
      "Epoch 74/100\n",
      "536/536 [==============================] - 0s 497us/step - loss: 0.3274 - accuracy: 0.8617 - val_loss: 0.3595 - val_accuracy: 0.8565\n",
      "Epoch 75/100\n",
      "536/536 [==============================] - 0s 499us/step - loss: 0.3277 - accuracy: 0.8625 - val_loss: 0.3576 - val_accuracy: 0.8573\n",
      "Epoch 76/100\n",
      "536/536 [==============================] - 0s 500us/step - loss: 0.3274 - accuracy: 0.8634 - val_loss: 0.3590 - val_accuracy: 0.8573\n",
      "Epoch 77/100\n",
      "536/536 [==============================] - 0s 537us/step - loss: 0.3280 - accuracy: 0.8636 - val_loss: 0.3574 - val_accuracy: 0.8569\n",
      "Epoch 78/100\n",
      "536/536 [==============================] - 0s 498us/step - loss: 0.3276 - accuracy: 0.8647 - val_loss: 0.3594 - val_accuracy: 0.8546\n",
      "Epoch 79/100\n",
      "536/536 [==============================] - 0s 498us/step - loss: 0.3275 - accuracy: 0.8632 - val_loss: 0.3578 - val_accuracy: 0.8557\n",
      "Epoch 80/100\n",
      "536/536 [==============================] - 0s 497us/step - loss: 0.3268 - accuracy: 0.8643 - val_loss: 0.3584 - val_accuracy: 0.8557\n",
      "Epoch 81/100\n",
      "536/536 [==============================] - 0s 500us/step - loss: 0.3270 - accuracy: 0.8645 - val_loss: 0.3583 - val_accuracy: 0.8561\n",
      "Epoch 82/100\n",
      "536/536 [==============================] - 0s 501us/step - loss: 0.3275 - accuracy: 0.8653 - val_loss: 0.3595 - val_accuracy: 0.8542\n",
      "Epoch 83/100\n",
      "536/536 [==============================] - 0s 496us/step - loss: 0.3271 - accuracy: 0.8640 - val_loss: 0.3588 - val_accuracy: 0.8523\n",
      "Epoch 84/100\n",
      "536/536 [==============================] - 0s 494us/step - loss: 0.3274 - accuracy: 0.8623 - val_loss: 0.3572 - val_accuracy: 0.8580\n",
      "Epoch 85/100\n",
      "536/536 [==============================] - 0s 500us/step - loss: 0.3268 - accuracy: 0.8658 - val_loss: 0.3573 - val_accuracy: 0.8569\n",
      "Epoch 86/100\n",
      "536/536 [==============================] - 0s 497us/step - loss: 0.3267 - accuracy: 0.8640 - val_loss: 0.3571 - val_accuracy: 0.8573\n",
      "Epoch 87/100\n",
      "536/536 [==============================] - 0s 499us/step - loss: 0.3269 - accuracy: 0.8643 - val_loss: 0.3581 - val_accuracy: 0.8554\n",
      "Epoch 88/100\n",
      "536/536 [==============================] - 0s 496us/step - loss: 0.3272 - accuracy: 0.8621 - val_loss: 0.3578 - val_accuracy: 0.8542\n",
      "Epoch 89/100\n",
      "536/536 [==============================] - 0s 544us/step - loss: 0.3265 - accuracy: 0.8649 - val_loss: 0.3577 - val_accuracy: 0.8573\n",
      "Epoch 90/100\n",
      "536/536 [==============================] - 0s 499us/step - loss: 0.3269 - accuracy: 0.8634 - val_loss: 0.3579 - val_accuracy: 0.8576\n",
      "Epoch 91/100\n",
      "536/536 [==============================] - 0s 497us/step - loss: 0.3272 - accuracy: 0.8642 - val_loss: 0.3573 - val_accuracy: 0.8561\n",
      "Epoch 92/100\n",
      "536/536 [==============================] - 0s 502us/step - loss: 0.3265 - accuracy: 0.8627 - val_loss: 0.3587 - val_accuracy: 0.8561\n",
      "Epoch 93/100\n",
      "536/536 [==============================] - 0s 496us/step - loss: 0.3273 - accuracy: 0.8649 - val_loss: 0.3567 - val_accuracy: 0.8576\n",
      "Epoch 94/100\n",
      "536/536 [==============================] - 0s 497us/step - loss: 0.3267 - accuracy: 0.8632 - val_loss: 0.3575 - val_accuracy: 0.8569\n",
      "Epoch 95/100\n",
      "536/536 [==============================] - 0s 498us/step - loss: 0.3269 - accuracy: 0.8638 - val_loss: 0.3580 - val_accuracy: 0.8569\n",
      "Epoch 96/100\n",
      "536/536 [==============================] - 0s 498us/step - loss: 0.3270 - accuracy: 0.8630 - val_loss: 0.3591 - val_accuracy: 0.8535\n",
      "Epoch 97/100\n",
      "536/536 [==============================] - 0s 497us/step - loss: 0.3266 - accuracy: 0.8628 - val_loss: 0.3561 - val_accuracy: 0.8599\n",
      "Epoch 98/100\n",
      "536/536 [==============================] - 0s 499us/step - loss: 0.3268 - accuracy: 0.8625 - val_loss: 0.3572 - val_accuracy: 0.8591\n",
      "Epoch 99/100\n",
      "536/536 [==============================] - 0s 499us/step - loss: 0.3271 - accuracy: 0.8632 - val_loss: 0.3574 - val_accuracy: 0.8584\n",
      "Epoch 100/100\n",
      "536/536 [==============================] - 0s 502us/step - loss: 0.3268 - accuracy: 0.8642 - val_loss: 0.3565 - val_accuracy: 0.8576\n"
     ]
    }
   ],
   "source": [
    "# Fitting the ANN to the Training set\n",
    "model_history = classifier.fit(X_train, y_train, batch_size=10, validation_split=0.33, epochs=100)"
   ]
  },
  {
   "cell_type": "code",
   "execution_count": 44,
   "id": "97b01af3-0470-457b-a3fe-3d08f3b475bd",
   "metadata": {},
   "outputs": [
    {
     "data": {
      "text/plain": [
       "dict_keys(['loss', 'accuracy', 'val_loss', 'val_accuracy'])"
      ]
     },
     "execution_count": 44,
     "metadata": {},
     "output_type": "execute_result"
    }
   ],
   "source": [
    "# List all data in history\n",
    "model_history.history.keys()"
   ]
  },
  {
   "cell_type": "code",
   "execution_count": 45,
   "id": "7e68b063-69ef-42e4-8c29-a1877d7db414",
   "metadata": {},
   "outputs": [
    {
     "data": {
      "image/png": "[encoded data removed]",
      "text/plain": [
       "<Figure size 800x800 with 1 Axes>"
      ]
     },
     "metadata": {},
     "output_type": "display_data"
    }
   ],
   "source": [
    "# Summarize history for accuracy\n",
    "plt.figure(figsize=(8,8))\n",
    "plt.plot(model_history.history['accuracy'])\n",
    "plt.plot(model_history.history['val_accuracy'])\n",
    "plt.title('Model Accuracy')\n",
    "plt.ylabel('Accuracy')\n",
    "plt.xlabel('Epoch')\n",
    "plt.legend(['Train', 'Test'], loc='lower right')\n",
    "plt.show()"
   ]
  },
  {
   "cell_type": "code",
   "execution_count": 46,
   "id": "bf4034bf-b172-4450-a7d8-5a18f9fcfb44",
   "metadata": {},
   "outputs": [
    {
     "data": {
      "image/png": "[encoded data removed]",
      "text/plain": [
       "<Figure size 800x800 with 1 Axes>"
      ]
     },
     "metadata": {},
     "output_type": "display_data"
    }
   ],
   "source": [
    "# Summarize history for loss\n",
    "plt.figure(figsize=(8,8))\n",
    "plt.plot(model_history.history['loss'])\n",
    "plt.plot(model_history.history['val_loss'])\n",
    "plt.title('Model Loss')\n",
    "plt.ylabel('Loss')\n",
    "plt.xlabel('Epoch')\n",
    "plt.legend(['Train', 'Test'], loc='upper right')\n",
    "plt.show()"
   ]
  },
  {
   "cell_type": "code",
   "execution_count": 47,
   "id": "d4da706a-45b0-43a6-849c-9a08e8b4d809",
   "metadata": {},
   "outputs": [
    {
     "name": "stdout",
     "output_type": "stream",
     "text": [
      "63/63 [==============================] - 0s 325us/step\n"
     ]
    }
   ],
   "source": [
    "# Predicting the Test set results\n",
    "y_pred = classifier.predict(X_test)"
   ]
  },
  {
   "cell_type": "code",
   "execution_count": 48,
   "id": "cf4c47f7-c763-49e4-8e3e-2c7a8eed8302",
   "metadata": {},
   "outputs": [
    {
     "data": {
      "text/plain": [
       "array([[0.37356883],\n",
       "       [0.3418639 ],\n",
       "       [0.17152663],\n",
       "       ...,\n",
       "       [0.13577591],\n",
       "       [0.11329564],\n",
       "       [0.26272315]], dtype=float32)"
      ]
     },
     "execution_count": 48,
     "metadata": {},
     "output_type": "execute_result"
    }
   ],
   "source": [
    "y_pred"
   ]
  },
  {
   "cell_type": "code",
   "execution_count": 49,
   "id": "554d8bc8-ebac-47b7-9bc3-6c097eb6d5e3",
   "metadata": {},
   "outputs": [
    {
     "data": {
      "text/plain": [
       "array([[False],\n",
       "       [False],\n",
       "       [False],\n",
       "       ...,\n",
       "       [False],\n",
       "       [False],\n",
       "       [False]])"
      ]
     },
     "execution_count": 49,
     "metadata": {},
     "output_type": "execute_result"
    }
   ],
   "source": [
    "y_pred = (y_pred > 0.5)\n",
    "y_pred"
   ]
  },
  {
   "cell_type": "code",
   "execution_count": 50,
   "id": "f8aacac9-d7b3-4938-b890-a742e08d51a2",
   "metadata": {},
   "outputs": [
    {
     "data": {
      "text/plain": [
       "array([[1531,   64],\n",
       "       [ 204,  201]])"
      ]
     },
     "execution_count": 50,
     "metadata": {},
     "output_type": "execute_result"
    }
   ],
   "source": [
    "# Making the Confusion Matrix\n",
    "from sklearn.metrics import confusion_matrix\n",
    "cm = confusion_matrix(y_test, y_pred)\n",
    "cm"
   ]
  },
  {
   "cell_type": "code",
   "execution_count": 51,
   "id": "6e908eff-6a2c-423f-b55f-ba8550c5a40c",
   "metadata": {},
   "outputs": [
    {
     "data": {
      "image/png": "[encoded data removed]",
      "text/plain": [
       "<Figure size 800x600 with 2 Axes>"
      ]
     },
     "metadata": {},
     "output_type": "display_data"
    }
   ],
   "source": [
    "# Plotting confusion matrix\n",
    "plt.figure(figsize=(8,6))\n",
    "sns.heatmap(cm, cmap='Blues', annot=True, xticklabels=['Did not Exit', 'Exit'], yticklabels=['Did not Exit', 'Exit'])\n",
    "plt.xlabel('Predicted values')\n",
    "plt.ylabel('Actual values')\n",
    "plt.title('Confusion Matrix for ANN model')\n",
    "plt.show()"
   ]
  },
  {
   "cell_type": "code",
   "execution_count": 52,
   "id": "ae3042b1-4c68-4844-aa84-fbc372d20355",
   "metadata": {},
   "outputs": [
    {
     "name": "stdout",
     "output_type": "stream",
     "text": [
      "The accuracy for ANN model is: 86.6%\n"
     ]
    }
   ],
   "source": [
    "# Calculate the Accuracy\n",
    "from sklearn.metrics import accuracy_score\n",
    "score = accuracy_score(y_pred,y_test)\n",
    "print('The accuracy for ANN model is: {}%'.format(score*100))"
   ]
  },
  {
   "cell_type": "code",
   "execution_count": 61,
   "id": "90f97b5a-3e46-4147-9668-817b04ed0e68",
   "metadata": {},
   "outputs": [],
   "source": [
    "def predict_exit(sample_value):\n",
    "  \n",
    "  # Convert list to numpy array\n",
    "  sample_value = np.array(sample_value)\n",
    "\n",
    "  # Reshape because sample_value contains only 1 record\n",
    "  sample_value = sample_value.reshape(1, -1)\n",
    "\n",
    "  # Feature Scaling\n",
    "  sample_value = sc.transform(sample_value)\n",
    "\n",
    "  return classifier.predict(sample_value)"
   ]
  },
  {
   "cell_type": "code",
   "execution_count": 58,
   "id": "27546cbf-9e98-4fc2-8f99-1388601a4fd7",
   "metadata": {},
   "outputs": [
    {
     "name": "stdout",
     "output_type": "stream",
     "text": [
      "1/1 [==============================] - 0s 17ms/step\n",
      "Prediction: Low chance of exit.\n"
     ]
    },
    {
     "name": "stderr",
     "output_type": "stream",
     "text": [
      "/Users/siva/Library/Python/3.11/lib/python/site-packages/sklearn/base.py:465: UserWarning: X does not have valid feature names, but StandardScaler was fitted with feature names\n",
      "  warnings.warn(\n"
     ]
    }
   ],
   "source": [
    "# Predictions\n",
    "# Value order 'CreditScore','Age','Tenure','Balance','NumOfProducts','HasCrCard','IsActiveMember','EstimatedSalary','Germany','Spain','Male'.\n",
    "sample_value = [738, 62, 10, 83008.31, 1, 1, 1, 42766.03, 1, 0, 1]\n",
    "if predict_exit(sample_value)>0.5:\n",
    "  print('Prediction: High chance of exit!')\n",
    "else:\n",
    "  print('Prediction: Low chance of exit.')"
   ]
  },
  {
   "cell_type": "code",
   "execution_count": 59,
   "id": "d5a324f5-1cac-4336-8b43-6ee06cd32e1c",
   "metadata": {},
   "outputs": [
    {
     "name": "stdout",
     "output_type": "stream",
     "text": [
      "1/1 [==============================] - 0s 17ms/step\n",
      "Prediction: High chance of exit!\n"
     ]
    },
    {
     "name": "stderr",
     "output_type": "stream",
     "text": [
      "/Users/siva/Library/Python/3.11/lib/python/site-packages/sklearn/base.py:465: UserWarning: X does not have valid feature names, but StandardScaler was fitted with feature names\n",
      "  warnings.warn(\n"
     ]
    }
   ],
   "source": [
    "# Predictions\n",
    "# Value order 'CreditScore','Age','Tenure','Balance','NumOfProducts','HasCrCard','IsActiveMember','EstimatedSalary','Germany','Spain','Male'.\n",
    "sample_value = [805, 45, 9, 116585.97, 1, 1, 0, 189428.75, 1, 0, 0]\n",
    "if predict_exit(sample_value)>0.5:\n",
    "  print('Prediction: High chance of exit!')\n",
    "else:\n",
    "  print('Prediction: Low chance of exit.')"
   ]
  },
  {
   "cell_type": "code",
   "execution_count": null,
   "id": "ec9c79ae-6cc8-4998-92d6-b9a482e5ad0a",
   "metadata": {},
   "outputs": [],
   "source": []
  }
 ],
 "metadata": {
  "kernelspec": {
   "display_name": "Python 3 (ipykernel)",
   "language": "python",
   "name": "python3"
  },
  "language_info": {
   "codemirror_mode": {
    "name": "ipython",
    "version": 3
   },
   "file_extension": ".py",
   "mimetype": "text/x-python",
   "name": "python",
   "nbconvert_exporter": "python",
   "pygments_lexer": "ipython3",
   "version": "3.11.5"
  }
 },
 "nbformat": 4,
 "nbformat_minor": 5
}
